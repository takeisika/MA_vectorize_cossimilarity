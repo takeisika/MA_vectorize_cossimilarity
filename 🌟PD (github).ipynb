{
 "cells": [
  {
   "cell_type": "code",
   "execution_count": 1,
   "id": "65135caa-5c42-4679-81ad-32da36cf321c",
   "metadata": {},
   "outputs": [
    {
     "name": "stdout",
     "output_type": "stream",
     "text": [
      "Requirement already satisfied: google-cloud-speech in ./opt/anaconda3/lib/python3.9/site-packages (2.12.0)\n",
      "Requirement already satisfied: proto-plus>=1.4.0 in ./opt/anaconda3/lib/python3.9/site-packages (from google-cloud-speech) (1.19.8)\n",
      "Requirement already satisfied: google-api-core[grpc]<3.0.0dev,>=1.28.0 in ./opt/anaconda3/lib/python3.9/site-packages (from google-cloud-speech) (2.3.2)\n",
      "Requirement already satisfied: libcst>=0.2.5 in ./opt/anaconda3/lib/python3.9/site-packages (from google-cloud-speech) (0.3.23)\n",
      "Requirement already satisfied: protobuf>=3.12.0 in ./opt/anaconda3/lib/python3.9/site-packages (from google-api-core[grpc]<3.0.0dev,>=1.28.0->google-cloud-speech) (3.19.1)\n",
      "Requirement already satisfied: requests<3.0.0dev,>=2.18.0 in ./opt/anaconda3/lib/python3.9/site-packages (from google-api-core[grpc]<3.0.0dev,>=1.28.0->google-cloud-speech) (2.26.0)\n",
      "Requirement already satisfied: setuptools>=40.3.0 in ./opt/anaconda3/lib/python3.9/site-packages (from google-api-core[grpc]<3.0.0dev,>=1.28.0->google-cloud-speech) (58.0.4)\n",
      "Requirement already satisfied: google-auth<3.0dev,>=1.25.0 in ./opt/anaconda3/lib/python3.9/site-packages (from google-api-core[grpc]<3.0.0dev,>=1.28.0->google-cloud-speech) (2.3.3)\n",
      "Requirement already satisfied: googleapis-common-protos<2.0dev,>=1.52.0 in ./opt/anaconda3/lib/python3.9/site-packages (from google-api-core[grpc]<3.0.0dev,>=1.28.0->google-cloud-speech) (1.54.0)\n",
      "Requirement already satisfied: grpcio<2.0dev,>=1.33.2 in ./opt/anaconda3/lib/python3.9/site-packages (from google-api-core[grpc]<3.0.0dev,>=1.28.0->google-cloud-speech) (1.43.0)\n",
      "Requirement already satisfied: grpcio-status<2.0dev,>=1.33.2 in ./opt/anaconda3/lib/python3.9/site-packages (from google-api-core[grpc]<3.0.0dev,>=1.28.0->google-cloud-speech) (1.43.0)\n",
      "Requirement already satisfied: cachetools<5.0,>=2.0.0 in ./opt/anaconda3/lib/python3.9/site-packages (from google-auth<3.0dev,>=1.25.0->google-api-core[grpc]<3.0.0dev,>=1.28.0->google-cloud-speech) (4.2.4)\n",
      "Requirement already satisfied: six>=1.9.0 in ./opt/anaconda3/lib/python3.9/site-packages (from google-auth<3.0dev,>=1.25.0->google-api-core[grpc]<3.0.0dev,>=1.28.0->google-cloud-speech) (1.16.0)\n",
      "Requirement already satisfied: rsa<5,>=3.1.4 in ./opt/anaconda3/lib/python3.9/site-packages (from google-auth<3.0dev,>=1.25.0->google-api-core[grpc]<3.0.0dev,>=1.28.0->google-cloud-speech) (4.8)\n",
      "Requirement already satisfied: pyasn1-modules>=0.2.1 in ./opt/anaconda3/lib/python3.9/site-packages (from google-auth<3.0dev,>=1.25.0->google-api-core[grpc]<3.0.0dev,>=1.28.0->google-cloud-speech) (0.2.8)\n",
      "Requirement already satisfied: typing-inspect>=0.4.0 in ./opt/anaconda3/lib/python3.9/site-packages (from libcst>=0.2.5->google-cloud-speech) (0.7.1)\n",
      "Requirement already satisfied: pyyaml>=5.2 in ./opt/anaconda3/lib/python3.9/site-packages (from libcst>=0.2.5->google-cloud-speech) (6.0)\n",
      "Requirement already satisfied: typing-extensions>=3.7.4.2 in ./opt/anaconda3/lib/python3.9/site-packages (from libcst>=0.2.5->google-cloud-speech) (3.10.0.2)\n",
      "Requirement already satisfied: pyasn1<0.5.0,>=0.4.6 in ./opt/anaconda3/lib/python3.9/site-packages (from pyasn1-modules>=0.2.1->google-auth<3.0dev,>=1.25.0->google-api-core[grpc]<3.0.0dev,>=1.28.0->google-cloud-speech) (0.4.8)\n",
      "Requirement already satisfied: certifi>=2017.4.17 in ./opt/anaconda3/lib/python3.9/site-packages (from requests<3.0.0dev,>=2.18.0->google-api-core[grpc]<3.0.0dev,>=1.28.0->google-cloud-speech) (2021.10.8)\n",
      "Requirement already satisfied: urllib3<1.27,>=1.21.1 in ./opt/anaconda3/lib/python3.9/site-packages (from requests<3.0.0dev,>=2.18.0->google-api-core[grpc]<3.0.0dev,>=1.28.0->google-cloud-speech) (1.26.7)\n",
      "Requirement already satisfied: charset-normalizer~=2.0.0 in ./opt/anaconda3/lib/python3.9/site-packages (from requests<3.0.0dev,>=2.18.0->google-api-core[grpc]<3.0.0dev,>=1.28.0->google-cloud-speech) (2.0.4)\n",
      "Requirement already satisfied: idna<4,>=2.5 in ./opt/anaconda3/lib/python3.9/site-packages (from requests<3.0.0dev,>=2.18.0->google-api-core[grpc]<3.0.0dev,>=1.28.0->google-cloud-speech) (3.2)\n",
      "Requirement already satisfied: mypy-extensions>=0.3.0 in ./opt/anaconda3/lib/python3.9/site-packages (from typing-inspect>=0.4.0->libcst>=0.2.5->google-cloud-speech) (0.4.3)\n",
      "Note: you may need to restart the kernel to use updated packages.\n"
     ]
    }
   ],
   "source": [
    "pip install --upgrade google-cloud-speech"
   ]
  },
  {
   "cell_type": "code",
   "execution_count": 1,
   "id": "23549acf-304e-450f-a82b-3787463722a4",
   "metadata": {},
   "outputs": [
    {
     "name": "stdout",
     "output_type": "stream",
     "text": [
      "Waiting for operation to complete...\n",
      "what kind of started just finding a bit low and about things but I don't know I just recently I'd be bothered to do anything that's what that kind of find it hard to get motivated for things and I want to be I really want to be bad as that it's just kind of reaching the head now I just want to do something about it yeah I mean that lovely I do with them that I don't know I recently whenever they want to go out with stuff like I don't want to bring them down, they don't understand what I'm going to be kind of I did I didn't make fun of how I feel it really understand what it's like I just I don't want to go out with them and bring them down I guess I kind of started when I was at you when I was revising to my exams and I guess sister I put myself I think I've always wanted to do well for me and I guess my parents said the stress of exams and it was kind of hot cuz my parents because her a tablet Island okay maybe more than other people but my parents have always kind of told me no and I guess but that you should do your best riddles to get the busting I agree with that I think that's the right thing to think but when I do that I didn't know and ask me and I will read that it annoys then bringing up good to be honest and actually if I didn't have to do that I didn't really leave the house so get out of bed I just can't find the motivation for the things I used to join him I used to love doing sports we're going out and now I deciphered the skin better not really do anything like now I die I don't really even to death to be here if I can't do what enough I feel these other students of it doing well and doing better and want to be that I don't know why they're even that you need to do I used to be I think from those emotions very well and got very kind of stressed all the time recently it's draining than anything don't be bothered anymore and it's my body perfect. But then when I try and sleep I just can't see if to have a satisfied sleep pretty ready for racing I guess I fed up but Lee was then I bet now in a way kind of when she felt bad cuz I do feel tired all the time I just trying to shower and then you do it was think about anything in it so much nicer that way than to keep focusing on I want you getting wrong and how much can't do stuff sometimes it's better to spend don't think about it too\n"
     ]
    }
   ],
   "source": [
    "#speech to text\n",
    "gcs_uri=\"gs://depression1223/Depression voice (interview) copy (online-audio-converter.com).wav\"\n",
    "\n",
    "from google.cloud import speech\n",
    "\n",
    "import os\n",
    "os.environ[\"GOOGLE_APPLICATION_CREDENTIALS\"]=\"depression1223-472ba50659e4.json\"\n",
    "\n",
    "client = speech.SpeechClient()\n",
    "\n",
    "audio = speech.RecognitionAudio(uri=gcs_uri)\n",
    "config = speech.RecognitionConfig(\n",
    "    encoding=speech.RecognitionConfig.AudioEncoding.LINEAR16,\n",
    "    sample_rate_hertz=48000,\n",
    "    language_code=\"en-US\",\n",
    ")\n",
    "\n",
    "operation = client.long_running_recognize(config=config, audio=audio)\n",
    "\n",
    "print(\"Waiting for operation to complete...\")\n",
    "response = operation.result(timeout=90)\n",
    "\n",
    "#print(response)\n",
    "\n",
    "# Each result is for a consecutive portion of the audio. Iterate through\n",
    "# them to get the transcripts for the entire audio file.\n",
    "###自然言語データを全部繋げたデータをtext_allにぶち込んだver\n",
    "\n",
    "text_all = \"\"\n",
    "for result in response.results:\n",
    "    text = result.alternatives[0].transcript\n",
    "    text_all += text\n",
    "    \n",
    "print(text_all)"
   ]
  },
  {
   "cell_type": "code",
   "execution_count": 3,
   "id": "1d24003d-2972-447b-958c-37c9de217d2f",
   "metadata": {},
   "outputs": [
    {
     "name": "stdout",
     "output_type": "stream",
     "text": [
      "Requirement already satisfied: liwc in ./opt/anaconda3/lib/python3.9/site-packages (0.5.0)\n",
      "Note: you may need to restart the kernel to use updated packages.\n"
     ]
    }
   ],
   "source": [
    "pip install liwc"
   ]
  },
  {
   "cell_type": "code",
   "execution_count": 4,
   "id": "47b2e447-f92b-4bdb-81f4-0639cf8cb292",
   "metadata": {},
   "outputs": [],
   "source": [
    "import liwc\n",
    "parse, category_names = liwc.load_token_parser('3 dimension.dic')\n",
    "import re\n",
    "\n",
    "def tokenize(text):\n",
    "    # you may want to use a smarter tokenizer\n",
    "    for match in re.finditer(r'\\w+', text, re.UNICODE):\n",
    "        yield match.group(0)\n",
    "\n",
    "###gettysburgには診断したい自然言語データが入る\n",
    "gettysburg = text_all.lower()\n",
    "gettysburg_tokens = tokenize(gettysburg)\n",
    "\n",
    "\n",
    "from collections import Counter\n",
    "sum = len(gettysburg.split())\n",
    "gettysburg_counts = Counter(category for token in gettysburg_tokens for category in parse(token))\n",
    "###print(gettysburg_counts)\n",
    "\n",
    "\n",
    "###読みやすいように改造\n",
    "i = gettysburg_counts[\"i\"]/sum\n",
    "negative_emotion = gettysburg_counts[\"negative emotion\"]/sum\n",
    "absolutist_words = gettysburg_counts[\"absolutist words\"]/sum\n",
    "\n",
    "#print(\"I : \" + str(round(i*100,2)) + \"%\")\n",
    "#print(\"Negative emotion : \" + str(round(negative_emotion*100,2)) + \"%\")\n",
    "#print(\"Absolutist words : \" + str(round(absolutist_words*100,2)) + \"%\")"
   ]
  },
  {
   "cell_type": "code",
   "execution_count": 5,
   "id": "c5958c0a-7140-478d-bf04-ea7a6abe8ea1",
   "metadata": {},
   "outputs": [
    {
     "name": "stdout",
     "output_type": "stream",
     "text": [
      "Requirement already satisfied: mutagen in ./opt/anaconda3/lib/python3.9/site-packages (1.45.1)\n",
      "Note: you may need to restart the kernel to use updated packages.\n"
     ]
    }
   ],
   "source": [
    "pip install mutagen"
   ]
  },
  {
   "cell_type": "code",
   "execution_count": 6,
   "id": "a0c3b893-f795-4b7e-a177-d4f1baad54b2",
   "metadata": {},
   "outputs": [],
   "source": [
    "from mutagen.wave import WAVE\n",
    "  \n",
    "# function to convert the information into \n",
    "# some readable format\n",
    "def audio_duration(length):\n",
    "    mins = length/60\n",
    "\n",
    "  \n",
    "    return mins  # returns the duration\n",
    "\n",
    "# Create a WAVE object\n",
    "# Specify the directory address of your wavpack file\n",
    "# \"alarm.wav\" is the name of the audiofile\n",
    "audio = WAVE(\"Depression voice (interview) copy (online-audio-converter.com).wav\")\n",
    "  \n",
    "# contains all the metadata about the wavpack file\n",
    "audio_info = audio.info\n",
    "length = int(audio_info.length)\n",
    "mins = audio_duration(length)\n",
    "#print('Total Duration:{}'.format(mins))\n",
    "\n",
    "###分単位に書き直した"
   ]
  },
  {
   "cell_type": "code",
   "execution_count": 7,
   "id": "d4fb5aa2-1873-4327-b869-7624cbf4e0c1",
   "metadata": {},
   "outputs": [
    {
     "name": "stdout",
     "output_type": "stream",
     "text": [
      "Requirement already satisfied: numpy in ./opt/anaconda3/lib/python3.9/site-packages (1.20.3)\n",
      "Requirement already satisfied: librosa in ./opt/anaconda3/lib/python3.9/site-packages (0.8.1)\n",
      "Requirement already satisfied: scikit-learn!=0.19.0,>=0.14.0 in ./opt/anaconda3/lib/python3.9/site-packages (from librosa) (0.24.2)\n",
      "Requirement already satisfied: packaging>=20.0 in ./opt/anaconda3/lib/python3.9/site-packages (from librosa) (21.0)\n",
      "Requirement already satisfied: resampy>=0.2.2 in ./opt/anaconda3/lib/python3.9/site-packages (from librosa) (0.2.2)\n",
      "Requirement already satisfied: audioread>=2.0.0 in ./opt/anaconda3/lib/python3.9/site-packages (from librosa) (2.1.9)\n",
      "Requirement already satisfied: scipy>=1.0.0 in ./opt/anaconda3/lib/python3.9/site-packages (from librosa) (1.7.1)\n",
      "Requirement already satisfied: numpy>=1.15.0 in ./opt/anaconda3/lib/python3.9/site-packages (from librosa) (1.20.3)\n",
      "Requirement already satisfied: joblib>=0.14 in ./opt/anaconda3/lib/python3.9/site-packages (from librosa) (1.1.0)\n",
      "Requirement already satisfied: numba>=0.43.0 in ./opt/anaconda3/lib/python3.9/site-packages (from librosa) (0.54.1)\n",
      "Requirement already satisfied: soundfile>=0.10.2 in ./opt/anaconda3/lib/python3.9/site-packages (from librosa) (0.10.3.post1)\n",
      "Requirement already satisfied: pooch>=1.0 in ./opt/anaconda3/lib/python3.9/site-packages (from librosa) (1.5.2)\n",
      "Requirement already satisfied: decorator>=3.0.0 in ./opt/anaconda3/lib/python3.9/site-packages (from librosa) (5.1.0)\n",
      "Requirement already satisfied: setuptools in ./opt/anaconda3/lib/python3.9/site-packages (from numba>=0.43.0->librosa) (58.0.4)\n",
      "Requirement already satisfied: llvmlite<0.38,>=0.37.0rc1 in ./opt/anaconda3/lib/python3.9/site-packages (from numba>=0.43.0->librosa) (0.37.0)\n",
      "Requirement already satisfied: pyparsing>=2.0.2 in ./opt/anaconda3/lib/python3.9/site-packages (from packaging>=20.0->librosa) (3.0.4)\n",
      "Requirement already satisfied: requests in ./opt/anaconda3/lib/python3.9/site-packages (from pooch>=1.0->librosa) (2.26.0)\n",
      "Requirement already satisfied: appdirs in ./opt/anaconda3/lib/python3.9/site-packages (from pooch>=1.0->librosa) (1.4.4)\n",
      "Requirement already satisfied: six>=1.3 in ./opt/anaconda3/lib/python3.9/site-packages (from resampy>=0.2.2->librosa) (1.16.0)\n",
      "Requirement already satisfied: threadpoolctl>=2.0.0 in ./opt/anaconda3/lib/python3.9/site-packages (from scikit-learn!=0.19.0,>=0.14.0->librosa) (2.2.0)\n",
      "Requirement already satisfied: cffi>=1.0 in ./opt/anaconda3/lib/python3.9/site-packages (from soundfile>=0.10.2->librosa) (1.14.6)\n",
      "Requirement already satisfied: pycparser in ./opt/anaconda3/lib/python3.9/site-packages (from cffi>=1.0->soundfile>=0.10.2->librosa) (2.20)\n",
      "Requirement already satisfied: urllib3<1.27,>=1.21.1 in ./opt/anaconda3/lib/python3.9/site-packages (from requests->pooch>=1.0->librosa) (1.26.7)\n",
      "Requirement already satisfied: charset-normalizer~=2.0.0 in ./opt/anaconda3/lib/python3.9/site-packages (from requests->pooch>=1.0->librosa) (2.0.4)\n",
      "Requirement already satisfied: certifi>=2017.4.17 in ./opt/anaconda3/lib/python3.9/site-packages (from requests->pooch>=1.0->librosa) (2021.10.8)\n",
      "Requirement already satisfied: idna<4,>=2.5 in ./opt/anaconda3/lib/python3.9/site-packages (from requests->pooch>=1.0->librosa) (3.2)\n",
      "Requirement already satisfied: matplotlib in ./opt/anaconda3/lib/python3.9/site-packages (3.4.3)\n",
      "Requirement already satisfied: pyparsing>=2.2.1 in ./opt/anaconda3/lib/python3.9/site-packages (from matplotlib) (3.0.4)\n",
      "Requirement already satisfied: cycler>=0.10 in ./opt/anaconda3/lib/python3.9/site-packages (from matplotlib) (0.10.0)\n",
      "Requirement already satisfied: python-dateutil>=2.7 in ./opt/anaconda3/lib/python3.9/site-packages (from matplotlib) (2.8.2)\n",
      "Requirement already satisfied: numpy>=1.16 in ./opt/anaconda3/lib/python3.9/site-packages (from matplotlib) (1.20.3)\n",
      "Requirement already satisfied: pillow>=6.2.0 in ./opt/anaconda3/lib/python3.9/site-packages (from matplotlib) (8.4.0)\n",
      "Requirement already satisfied: kiwisolver>=1.0.1 in ./opt/anaconda3/lib/python3.9/site-packages (from matplotlib) (1.3.1)\n",
      "Requirement already satisfied: six in ./opt/anaconda3/lib/python3.9/site-packages (from cycler>=0.10->matplotlib) (1.16.0)\n",
      "Requirement already satisfied: scipy in ./opt/anaconda3/lib/python3.9/site-packages (1.7.1)\n",
      "Requirement already satisfied: numpy<1.23.0,>=1.16.5 in ./opt/anaconda3/lib/python3.9/site-packages (from scipy) (1.20.3)\n"
     ]
    }
   ],
   "source": [
    "!pip install numpy\n",
    "!pip install librosa\n",
    "!pip install matplotlib\n",
    "!pip install scipy "
   ]
  },
  {
   "cell_type": "code",
   "execution_count": 8,
   "id": "be9d9e49-f44a-4a11-ad02-7b2fcb885964",
   "metadata": {},
   "outputs": [
    {
     "data": {
      "image/png": "[encoded data removed]",
      "text/plain": [
       "<Figure size 432x288 with 1 Axes>"
      ]
     },
     "metadata": {
      "needs_background": "light"
     },
     "output_type": "display_data"
    }
   ],
   "source": [
    "###音声データをフーリエ変換してグラフにする\n",
    "\n",
    "import sys\n",
    "import scipy.io.wavfile\n",
    "import numpy as np\n",
    "import matplotlib.pyplot as plt\n",
    " \n",
    " \n",
    "#音声ファイル読み込み\n",
    "args = sys.argv\n",
    "wav_filename = args[1]\n",
    "rate, data = scipy.io.wavfile.read(\"Depression voice (interview) copy (online-audio-converter.com).wav\")\n",
    " \n",
    " \n",
    "#（振幅）の配列を作成\n",
    "data = data / 32768\n",
    " \n",
    "##### 周波数成分を表示する #####\n",
    "#縦軸：dataを高速フーリエ変換する（時間領域から周波数領域に変換する）\n",
    "fft_data = np.abs(np.fft.fft(data))    \n",
    "#横軸：周波数の取得　　#np.fft.fftfreq(データ点数, サンプリング周期)\n",
    "freqList = np.fft.fftfreq(data.shape[0], d=1.0/rate)  \n",
    "#データプロット\n",
    "plt.plot(freqList, fft_data)\n",
    "plt.xlim(100, 2000) #声の周波数である0～2000Hzまで表示\n",
    "plt.show()"
   ]
  },
  {
   "cell_type": "code",
   "execution_count": 9,
   "id": "b60441a5-4682-4e97-924e-f29bbe388a7f",
   "metadata": {},
   "outputs": [],
   "source": [
    "#フーリエ変換後の縦軸の標準偏差を算出したい\n",
    "\n",
    "#声の周波数である0～2000Hzの部分だけを計算したい\n",
    "fl = 100                            # 低域カットオフ周波数\n",
    "fh = 2000                           # 高域カットオフ周波数\n",
    "df = freqList[1]                    # 周波数分解能(freqListという横軸を持ってくる)(分解能とはどれだけ細かくデータを検出するかみたいな)\n",
    "fl_i = int(fl / df)                 # flの指標(Numpyスライス用）\n",
    "fh_i = int(fh / df)                 # fhの指標(Numpyスライス用）\n",
    "extracted = fft_data[fl_i:fh_i]     # FFT波形の振幅からデータを抽出(リスト[開始インデックス:終了インデックス]は基本)\n",
    "\n",
    "\n",
    "mean = np.mean(extracted)           # 平均を計算\n",
    "std = np.std(extracted, ddof=1)     # 不偏標準偏差\n",
    "#print('Mean=', mean)\n",
    "#print('σ=', std)\n",
    "\n",
    "#fft_dataはフーリエ変換後のグラフの縦軸\n",
    "#標準偏差により平均からどれくらいバラツキがあるかを調べられる(周波数毎のpowerにばらつきが大きい=>周波数が安定していない=>抑揚ある)\n",
    "\n",
    "\n",
    "#確認用\n",
    "max = np.max(extracted)\n",
    "#print(max)\n",
    "min = np.min(extracted)\n",
    "#print(min)\n",
    "mid = np.median(extracted)\n",
    "#print(mid)\n",
    "mean = np.mean(extracted)\n",
    "#print(mean)"
   ]
  },
  {
   "cell_type": "code",
   "execution_count": 10,
   "id": "b2bb3c87-2a5c-4d9f-9d01-8e40e4b6bf01",
   "metadata": {},
   "outputs": [
    {
     "name": "stdout",
     "output_type": "stream",
     "text": [
      "I : 12.47%\n",
      "Negative emotion : 2.01%\n",
      "Absolutist words : 0.8%\n",
      "WPM : 144.76\n",
      "Monotone Voice : 422.99\n"
     ]
    }
   ],
   "source": [
    "print(\"I : \" + str(round(i*100,2)) + \"%\")\n",
    "print(\"Negative emotion : \" + str(round(negative_emotion*100,2)) + \"%\")\n",
    "print(\"Absolutist words : \" + str(round(absolutist_words*100,2)) + \"%\")\n",
    "print(\"WPM : \" + str(round(sum/mins,2)))\n",
    "print('Monotone Voice : ' + str(round(std,2)))"
   ]
  },
  {
   "cell_type": "code",
   "execution_count": null,
   "id": "94fa8c8f-265e-4349-9a71-94d20ca64137",
   "metadata": {},
   "outputs": [],
   "source": []
  }
 ],
 "metadata": {
  "kernelspec": {
   "display_name": "Python 3 (ipykernel)",
   "language": "python",
   "name": "python3"
  },
  "language_info": {
   "codemirror_mode": {
    "name": "ipython",
    "version": 3
   },
   "file_extension": ".py",
   "mimetype": "text/x-python",
   "name": "python",
   "nbconvert_exporter": "python",
   "pygments_lexer": "ipython3",
   "version": "3.9.7"
  },
  "toc-autonumbering": true,
  "toc-showcode": true,
  "toc-showmarkdowntxt": false,
  "toc-showtags": false
 },
 "nbformat": 4,
 "nbformat_minor": 5
}
